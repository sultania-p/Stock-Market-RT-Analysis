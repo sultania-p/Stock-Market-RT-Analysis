{
 "cells": [
  {
   "cell_type": "code",
   "execution_count": null,
   "id": "74b85626",
   "metadata": {},
   "outputs": [],
   "source": [
    "# pip install kafka-python"
   ]
  },
  {
   "cell_type": "code",
   "execution_count": null,
   "id": "9f3d7196",
   "metadata": {},
   "outputs": [],
   "source": [
    "import pandas as pd\n",
    "from time import sleep\n",
    "from kafka import KafkaProducer\n",
    "from json import dumps\n",
    "import json"
   ]
  },
  {
   "cell_type": "code",
   "execution_count": null,
   "id": "3f74af56",
   "metadata": {},
   "outputs": [],
   "source": [
    "producer = KafkaProducer(bootstrap_servers=['54.227.205.231:9092'],\n",
    "                        value_serializer=lambda x:\n",
    "                        dumps(x).encode('utf-8'))"
   ]
  },
  {
   "cell_type": "code",
   "execution_count": null,
   "id": "7855ff5b",
   "metadata": {},
   "outputs": [],
   "source": [
    "producer.send('demo_test', value = \"{'Hello: 'WOrld'}\")"
   ]
  },
  {
   "cell_type": "code",
   "execution_count": null,
   "id": "341fdde5",
   "metadata": {},
   "outputs": [],
   "source": [
    "producer.send('demo_test', value = \"{'Name: 'Piyush'}\")"
   ]
  },
  {
   "cell_type": "code",
   "execution_count": null,
   "id": "c8b8bd0d",
   "metadata": {},
   "outputs": [],
   "source": [
    "# simulate the stocks data\n",
    "df = pd.read_csv(\"data/indexProcessed.csv\")"
   ]
  },
  {
   "cell_type": "code",
   "execution_count": null,
   "id": "ae5c085e",
   "metadata": {
    "scrolled": false
   },
   "outputs": [],
   "source": [
    "while True:\n",
    "    dict_stock = df.sample(1).to_dict(orient=\"records\")[0]\n",
    "    producer.send('demo_test', value = dict_stock)\n",
    "    sleep(1)"
   ]
  },
  {
   "cell_type": "code",
   "execution_count": null,
   "id": "a0d2a54c",
   "metadata": {},
   "outputs": [],
   "source": [
    "producer.flush() # remove the old data"
   ]
  },
  {
   "cell_type": "code",
   "execution_count": null,
   "id": "7e2e0bf1",
   "metadata": {},
   "outputs": [],
   "source": []
  }
 ],
 "metadata": {
  "kernelspec": {
   "display_name": "Python 3 (ipykernel)",
   "language": "python",
   "name": "python3"
  },
  "language_info": {
   "codemirror_mode": {
    "name": "ipython",
    "version": 3
   },
   "file_extension": ".py",
   "mimetype": "text/x-python",
   "name": "python",
   "nbconvert_exporter": "python",
   "pygments_lexer": "ipython3",
   "version": "3.9.13"
  }
 },
 "nbformat": 4,
 "nbformat_minor": 5
}
